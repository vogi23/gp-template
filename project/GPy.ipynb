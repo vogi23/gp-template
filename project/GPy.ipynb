{
 "cells": [
  {
   "cell_type": "code",
   "execution_count": 1,
   "metadata": {},
   "outputs": [],
   "source": [
    "import numpy as np\n",
    "import pandas as pd\n",
    "import pickle\n",
    "import pathlib\n",
    "import matplotlib.pyplot as plt"
   ]
  },
  {
   "cell_type": "code",
   "execution_count": 2,
   "metadata": {},
   "outputs": [],
   "source": [
    "def save_model(clf, name, path='./models/', overwrite=False):\n",
    "    _file = pathlib.Path(path+name)\n",
    "    if _file.exists():\n",
    "        if overwrite:\n",
    "                _file.unlink()\n",
    "        else:\n",
    "            print('%s file already exists' % (str(path+name)))\n",
    "            return\n",
    "    with open(path+name, 'xb') as f:\n",
    "        pickle.dump(clf, f)\n",
    "    \n",
    "def load_model(name, path='./models/'):\n",
    "    return pickle.load(open(path+name, 'rb'))"
   ]
  },
  {
   "cell_type": "markdown",
   "metadata": {},
   "source": [
    "# Synthetic Dataset"
   ]
  },
  {
   "cell_type": "code",
   "execution_count": 3,
   "metadata": {},
   "outputs": [],
   "source": [
    "from sklearn.model_selection import train_test_split\n",
    "\n",
    "n_samples = 20\n",
    "np.random.seed(1)\n",
    "X = np.random.uniform(0,2*2*3.14,n_samples).reshape(-1,1)\n",
    "y = np.sin(X) + np.random.normal(0,.2,n_samples).reshape(-1,1)\n",
    "\n",
    "X_train, X_test, y_train, y_test = train_test_split(X,y, test_size=0.2)"
   ]
  },
  {
   "cell_type": "markdown",
   "metadata": {},
   "source": [
    "# Gaussian Process Regression - GPy"
   ]
  },
  {
   "cell_type": "code",
   "execution_count": 4,
   "metadata": {},
   "outputs": [
    {
     "name": "stdout",
     "output_type": "stream",
     "text": [
      "warning in stationary: failed to import cython module: falling back to numpy\n",
      "warning in coregionalize: failed to import cython module: falling back to numpy\n",
      "warning in choleskies: failed to import cython module: falling back to numpy\n",
      "Iteration  0: variance=1.00, lengthscale=1.00\n",
      "Iteration  1: variance=0.76, lengthscale=1.52\n",
      "Iteration  2: variance=0.76, lengthscale=1.52\n",
      "Iteration  3: variance=0.76, lengthscale=1.52\n",
      "Iteration  4: variance=0.76, lengthscale=1.52\n",
      "Iteration  5: variance=0.76, lengthscale=1.52\n",
      "Iteration  6: variance=0.76, lengthscale=1.52\n",
      "Iteration  7: variance=0.76, lengthscale=1.52\n",
      "Iteration  8: variance=0.76, lengthscale=1.52\n",
      "Iteration  9: variance=0.76, lengthscale=1.52\n"
     ]
    }
   ],
   "source": [
    "import GPy\n",
    "\n",
    "kernel = GPy.kern.RBF(1, variance=1, lengthscale=1)\n",
    "model = GPy.models.GPRegression(X_train,y_train,kernel=kernel,noise_var=1e-2)\n",
    "\n",
    "for i in range(10):\n",
    "    print('Iteration %2i: variance=%.2f, lengthscale=%.2f' % (i, model.rbf.variance.values[0], model.rbf.lengthscale.values[0]))\n",
    "    model.optimize('bfgs', max_iters=100) #first runs EP to approximate the posterior, then optimizes the kernel parameters"
   ]
  },
  {
   "cell_type": "markdown",
   "metadata": {},
   "source": [
    "# Plot results"
   ]
  },
  {
   "cell_type": "code",
   "execution_count": 5,
   "metadata": {},
   "outputs": [
    {
     "name": "stdout",
     "output_type": "stream",
     "text": [
      "MSE: 0.173\n"
     ]
    },
    {
     "data": {
      "image/png": "[encoded data removed]",
      "text/plain": [
       "<Figure size 432x288 with 1 Axes>"
      ]
     },
     "metadata": {
      "needs_background": "light"
     },
     "output_type": "display_data"
    }
   ],
   "source": [
    "plt.scatter(X_train.tolist(), y_train.tolist(), label='train data')\n",
    "plt.scatter(X_test.tolist(), y_test.tolist(), label='test data')\n",
    "x_post = np.linspace(np.min(X), np.max(X), 100)\n",
    "plt.plot(x_post.tolist(), model.predict(x_post.reshape(-1,1))[0].tolist(), label='prediction')\n",
    "plt.legend()\n",
    "\n",
    "print('MSE: %.3f' % np.mean(np.square(model.predict(X_test)-y_test)))"
   ]
  }
 ],
 "metadata": {
  "kernelspec": {
   "display_name": "Python 3",
   "language": "python",
   "name": "python3"
  },
  "language_info": {
   "codemirror_mode": {
    "name": "ipython",
    "version": 3
   },
   "file_extension": ".py",
   "mimetype": "text/x-python",
   "name": "python",
   "nbconvert_exporter": "python",
   "pygments_lexer": "ipython3",
   "version": "3.6.8"
  }
 },
 "nbformat": 4,
 "nbformat_minor": 4
}
